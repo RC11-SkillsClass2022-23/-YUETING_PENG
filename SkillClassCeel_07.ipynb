{
  "nbformat": 4,
  "nbformat_minor": 0,
  "metadata": {
    "colab": {
      "provenance": [],
      "authorship_tag": "ABX9TyNEwzRyCJURB/cbTBRDWPvw",
      "include_colab_link": true
    },
    "kernelspec": {
      "name": "python3",
      "display_name": "Python 3"
    },
    "language_info": {
      "name": "python"
    }
  },
  "cells": [
    {
      "cell_type": "markdown",
      "metadata": {
        "id": "view-in-github",
        "colab_type": "text"
      },
      "source": [
        "<a href=\"https://colab.research.google.com/github/RC11-SkillsClass2022-23/YUETING_PENG/blob/main/SkillClassCeel_07.ipynb\" target=\"_parent\"><img src=\"https://colab.research.google.com/assets/colab-badge.svg\" alt=\"Open In Colab\"/></a>"
      ]
    },
    {
      "cell_type": "code",
      "execution_count": 1,
      "metadata": {
        "id": "gcH8wLp0Tihw"
      },
      "outputs": [],
      "source": [
        "import numpy as np"
      ]
    },
    {
      "cell_type": "markdown",
      "source": [
        "## Exercise One"
      ],
      "metadata": {
        "id": "mp2zeEMPUo7f"
      }
    },
    {
      "cell_type": "markdown",
      "source": [
        "1.1"
      ],
      "metadata": {
        "id": "6kAtcIAcUzez"
      }
    },
    {
      "cell_type": "code",
      "source": [
        "def SMM(A,B):\n",
        "  n = len(A)\n",
        "  C = [[0 for j in range(n)] for i in range(n)]\n",
        "  for i in range (n):\n",
        "    for j in range (n):\n",
        "      for k in range (n):\n",
        "        C[i][j] += A[i][k]*B[k][j]\n",
        "  \n",
        "  return C"
      ],
      "metadata": {
        "id": "OrskWgGFT076"
      },
      "execution_count": 5,
      "outputs": []
    },
    {
      "cell_type": "code",
      "source": [
        "A = [[1,2],[2,4]]\n",
        "B = [[1,3],[6,9]]\n",
        "SMM(A,B)"
      ],
      "metadata": {
        "colab": {
          "base_uri": "https://localhost:8080/"
        },
        "id": "yEAP-eJJZR7G",
        "outputId": "01b13d09-22a1-46a6-825e-288c19fa7d99"
      },
      "execution_count": 6,
      "outputs": [
        {
          "output_type": "execute_result",
          "data": {
            "text/plain": [
              "[[13, 21], [26, 42]]"
            ]
          },
          "metadata": {},
          "execution_count": 6
        }
      ]
    },
    {
      "cell_type": "markdown",
      "source": [
        "1.2"
      ],
      "metadata": {
        "id": "XqxXUTbpbtRy"
      }
    },
    {
      "cell_type": "code",
      "source": [
        "# justify\n",
        "A = np.array([[1,2],[2,4]])\n",
        "B = np.array([[1,3],[6,9]])\n",
        "A@B"
      ],
      "metadata": {
        "colab": {
          "base_uri": "https://localhost:8080/"
        },
        "id": "WRQdtDqIcNXe",
        "outputId": "f4d5d12b-2432-4360-96cd-6d5d5cfc6f0e"
      },
      "execution_count": 9,
      "outputs": [
        {
          "output_type": "execute_result",
          "data": {
            "text/plain": [
              "array([[13, 21],\n",
              "       [26, 42]])"
            ]
          },
          "metadata": {},
          "execution_count": 9
        }
      ]
    },
    {
      "cell_type": "markdown",
      "source": [
        "## Exercise Two"
      ],
      "metadata": {
        "id": "RV6iDdIueX2q"
      }
    },
    {
      "cell_type": "markdown",
      "source": [
        "2.1"
      ],
      "metadata": {
        "id": "YlG3675ZeclF"
      }
    },
    {
      "cell_type": "markdown",
      "source": [
        "*   The function is recursive because it works by recursively dividing each input matrix into four smaller matrices of equal size, it keeps doing this until the size of the matrices is small enough to compute the product directly.\n",
        "*   The matrices are recursively divided into smaller submatrices until their size becomes 1 x 1 or 2 x 2, This is the base case. For matrices of size 1 x 1, the product can be calculated directly by multiplying the single element in each matrix. For matrices of size 2 x 2, the product can be computed using the standard matrix multiplication algorithm, which requires four multiplications and some additions and subtractions.\n",
        "*  Once the base case is reached, the algorithm starts returning from the recursive calls and begins combining the results from smaller matrices to compute the product of the original matrices. \n"
      ],
      "metadata": {
        "id": "bX6_Z8Ohn9Rf"
      }
    },
    {
      "cell_type": "markdown",
      "source": [
        "\n",
        "*   **Divide:** The input matrices A and B are recursively divided into four sub-matrices each size is 2*2 (for example A11,A12,A21,A22)\n",
        "*   **Conquer:** Compute matrix multiplications using the smaller matrices as inputs. If the input matrices A and B are 1x1 matrices, the algorithm directly computes their product.\n",
        "*   **Combine:** The resulting sub-matrices of C are combined into the final matrix C using the combine_matrices function\n",
        "\n"
      ],
      "metadata": {
        "id": "bwQZl0GKssM5"
      }
    },
    {
      "cell_type": "markdown",
      "source": [
        "2.2"
      ],
      "metadata": {
        "id": "h8wOjEa8x2Qu"
      }
    },
    {
      "cell_type": "markdown",
      "source": [
        "* Base case:\n",
        "For matrices of size 1x1, the multiplication requires one operation, and for matrices of size 2x2, the multiplication requires seven operations. Hence, the time complexity of the base case is O(1).\n",
        "* divide step:\n",
        "The divide step involves dividing the input matrices into four smaller matrices of equal size. This step requires O(n^2) operations, (n is the size of the input matrix)\n",
        "* conquer step:\n",
        "the input matrix is divided into four smaller matrices, each of size n/2 x n/2, there are 8 recursive calls in this step. Hence, the time complexity of the conquer step is T(n/2)*8.\n",
        "* combine step:\n",
        "The combine step involves combining the results of the seven matrix multiplications to obtain the final product. This step requires O(n^2) operations.\n",
        "* putting all together:\n",
        "he time complexity of the SMMRec algorithm can be expressed as: T(n) = 8*T(n/2) + O(n^2)\n",
        "\n"
      ],
      "metadata": {
        "id": "yUDSNFYgx4Vv"
      }
    },
    {
      "cell_type": "markdown",
      "source": [
        "2.3"
      ],
      "metadata": {
        "id": "CBCL_HL4MwDW"
      }
    },
    {
      "cell_type": "code",
      "source": [
        "def SMMR(A, B):\n",
        "    n = len(A)\n",
        "    C = [[0 for j in range(n)] for i in range(n)]\n",
        "    \n",
        "    if n == 1:  # base case\n",
        "        C[0][0] = A[0][0] * B[0][0]\n",
        "    else:\n",
        "        # divide matrices\n",
        "        A11, A12, A21, A22 = split_matrix(A)\n",
        "        B11, B12, B21, B22 = split_matrix(B)\n",
        "\n",
        "        # recursively compute sub-matrices of C\n",
        "        C11 = add_matrices(SMMR(A11, B11), SMMR(A12, B21))\n",
        "        C12 = add_matrices(SMMR(A11, B12), SMMR(A12, B22))\n",
        "        C21 = add_matrices(SMMR(A21, B11), SMMR(A22, B21))\n",
        "        C22 = add_matrices(SMMR(A21, B12), SMMR(A22, B22))\n",
        "\n",
        "        # combine sub-matrices of C\n",
        "        C = combine_matrices(C11, C12, C21, C22)\n",
        "\n",
        "    return C"
      ],
      "metadata": {
        "id": "Av2geHx9Mxb8"
      },
      "execution_count": 11,
      "outputs": []
    },
    {
      "cell_type": "code",
      "source": [
        "def split_matrix(A):\n",
        "  n = len(A)/2\n",
        "  A11 = [[0 for i in range(n)]for j in range(n)]\n",
        "  A12 = [[0 for i in range(n)]for j in range(n)]\n",
        "  A21 = [[0 for i in range(n)]for j in range(n)]\n",
        "  A22 = [[0 for i in range(n)]for j in range(n)]\n",
        "  for x in range(0,n):\n",
        "    for y in range(0,n):\n",
        "      A11[x][y] = A[x][y]\n",
        "      A12[x][y] = A[x][y+n]\n",
        "      A21[x][y] = A[x+n][y]\n",
        "      A22[x][y] = A[x+n][y+n]\n",
        "  return (A11,A12,A21,A22)"
      ],
      "metadata": {
        "id": "UEhGDxG1ak8r"
      },
      "execution_count": null,
      "outputs": []
    },
    {
      "cell_type": "code",
      "source": [
        "def add_matrices(A,B):\n",
        "  n = len(A)\n",
        "  C = [[0 for i in range(n)]for j in range(n)]\n",
        "  for i in range (0,n):\n",
        "    for j in range (0,n):\n",
        "      C[i][j] = A[i][j]+B[i][j]\n",
        "  return C "
      ],
      "metadata": {
        "id": "w5e1E5HDfSHM"
      },
      "execution_count": null,
      "outputs": []
    },
    {
      "cell_type": "markdown",
      "source": [
        "## Exercise Three"
      ],
      "metadata": {
        "id": "v8dyuXqajKv5"
      }
    },
    {
      "cell_type": "markdown",
      "source": [
        "The time complexity of the recursive matrix multiplication algorithm (SMMRec) was given by T(n) = 8*T(n/2) + O(n^2) (T(n) represents the time required to multiply two matrices of size n * n.)\n",
        "In exercise 2, 8 multiplications and 4 additions and subtractions are used, but multiplication takes more time than addition and subtraction. In practice, the Strassen algorithm is not always faster than the standard algorithm. There are some additional additions/subtractions will be used. And for the small matrix sizes, the standard algorithm may be faster."
      ],
      "metadata": {
        "id": "0m2A0IfTjUNZ"
      }
    }
  ]
}