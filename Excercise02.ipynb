{
  "nbformat": 4,
  "nbformat_minor": 0,
  "metadata": {
    "colab": {
      "provenance": [],
      "authorship_tag": "ABX9TyPWRYOrcguMJrbRUSiKTCjR",
      "include_colab_link": true
    },
    "kernelspec": {
      "name": "python3",
      "display_name": "Python 3"
    },
    "language_info": {
      "name": "python"
    }
  },
  "cells": [
    {
      "cell_type": "markdown",
      "metadata": {
        "id": "view-in-github",
        "colab_type": "text"
      },
      "source": [
        "<a href=\"https://colab.research.google.com/github/RC11-SkillsClass2022-23/YUETING_PENG/blob/main/Excercise02.ipynb\" target=\"_parent\"><img src=\"https://colab.research.google.com/assets/colab-badge.svg\" alt=\"Open In Colab\"/></a>"
      ]
    },
    {
      "cell_type": "markdown",
      "source": [
        "# Lambda calculus"
      ],
      "metadata": {
        "id": "Q9x7Ke5YRcCc"
      }
    },
    {
      "cell_type": "markdown",
      "source": [
        "Exercise1"
      ],
      "metadata": {
        "id": "RnaXO5b0Rih7"
      }
    },
    {
      "cell_type": "code",
      "source": [
        "def Lfunction(c):\n",
        "  b = (lambda x: x*2)(c)\n",
        "  a = b*2 \n",
        "  return a"
      ],
      "metadata": {
        "id": "Gyv2fkENRdPI"
      },
      "execution_count": null,
      "outputs": []
    },
    {
      "cell_type": "code",
      "source": [
        "Lfunction(3)"
      ],
      "metadata": {
        "colab": {
          "base_uri": "https://localhost:8080/"
        },
        "id": "Grn-iobHgTmT",
        "outputId": "4c4287b1-76ab-4c81-89a0-289110f13d18"
      },
      "execution_count": null,
      "outputs": [
        {
          "output_type": "execute_result",
          "data": {
            "text/plain": [
              "12"
            ]
          },
          "metadata": {},
          "execution_count": 11
        }
      ]
    },
    {
      "cell_type": "markdown",
      "source": [
        "Exercise2"
      ],
      "metadata": {
        "id": "U9nnmlD7iJap"
      }
    },
    {
      "cell_type": "code",
      "source": [
        "data = [{'country': \"Ukraine\",'number': \"3\",'name': \"Derek Bolton\"},{'country': \"United States\",'number': \"3\",'name': \"Britanney Durham\"},{'country': \"China\",'number': \"7\",'name': \"Rachel Dickson\"},{'country': \"India\",'number': \"4\",'name': \"Oren Dominguez\"},{'country': \"Norway\",'number': \"5\",'name': \"Keane Dean\"},{'country': \"New Zealand\",'number': \"8\",'name': \"Tarik Coleman\"},{'country': \"South Africa\",'number': \"3\",'name': \"Uriel Greene\"},{'country': \"China\",'number': \"6\",'name': \"Minerva Shields\"},{'country': \"Norway\",'number': \"7\",'name': \"Robin Butler\"},{'country': \"Germany\",'number': \"7\",'name': \"Stacey Nixon\"},{'country': \"South Africa\",'number': \"4\",'name': \"Glenna Clark\"},{'country': \"Australia\",'number': \"7\",'name': \"Adena Smith\"},{'country': \"Italy\",'number': \"2\",'name': \"Ronan Ellis\"},{'country': \"Chile\",'number': \"1\",'name': \"Ignatius Guy\"},{'country': \"Belgium\",'number': \"8\",'name': \"Barclay Lindsey\"},{'country': \"Peru\",'number': \"2\",'name': \"Fuller Burris\"},{'country': \"Ukraine\",'number': \"2\",'name': \"Kylan Witt\"},{'country': \"United States\",'number': \"1\",'name': \"Kitra Willis\"},{'country': \"Austria\",'number': \"6\",'name': \"Indigo Dillard\"},{'country': \"Chile\",'number': \"3\",'name': \"Benedict Powell\"},{'country': \"Russian Federation\",'number': \"9\",'name': \"Duncan Ware\"},{'country': \"Peru\",'number': \"7\",'name': \"Abra Lewis\"},{'country': \"China\",'number': \"5\",'name': \"Callie Cole\"},{'country': \"United States\",'number': \"0\",'name': \"Cedric Gates\"},{'country': \"Ukraine\",'number': \"7\",'name': \"Malcolm Cox\"},{'country': \"Brazil\",'number': \"6\",'name': \"Connor Potts\"},{'country': \"Sweden\",'number': \"7\",'name': \"Lyle Nguyen\"},{'country': \"United States\",'number': \"3\",'name': \"Rudyard Barrett\"},{'country': \"Costa Rica\",'number': \"2\",'name': \"Judah Brock\"},{'country': \"South Korea\",'number': \"2\",'name': \"Lucius Snider\"},{'country': \"China\",'number': \"1\",'name': \"Cassady Mcdaniel\"},{'country': \"Singapore\",'number': \"2\",'name': \"Allegra Baird\"},{'country': \"Philippines\",'number': \"4\",'name': \"Omar Burgess\"},{'country': \"Turkey\",'number': \"7\",'name': \"Kenyon Rosa\"},{'country': \"Poland\",'number': \"6\",'name': \"Yen Sargent\"},{'country': \"China\",'number': \"3\",'name': \"Rashad Grimes\"},{'country': \"Spain\",'number': \"7\",'name': \"Tamekah Gutierrez\"},{'country': \"Ukraine\",'number': \"3\",'name': \"Liberty Mathis\"},{'country': \"Mexico\",'number': \"3\",'name': \"Rylee Sharpe\"},{'country': \"Mexico\",'number': \"3\",'name': \"Brynn Hinton\"},{'country': \"Sweden\",'number': \"2\",'name': \"Quinn Berg\"},{'country': \"Philippines\",'number': \"9\",'name': \"Simone Tanner\"},{'country': \"Ireland\",'number': \"2\",'name': \"Simon Giles\"},{'country': \"United Kingdom\",'number': \"10\",'name': \"Zenia Coffey\"},{'country': \"Mexico\",'number': \"2\",'name': \"Yael Glass\"},{'country': \"Colombia\",'number': \"5\",'name': \"Inga Russell\"},{'country': \"United Kingdom\",'number': \"1\",'name': \"Brendan Pearson\"},{'country': \"Austria\",'number': \"3\",'name': \"Shafira Parks\"},{'country': \"India\",'number': \"9\",'name': \"Dante Charles\"},{'country': \"Sweden\",'number': \"8\",'name': \"Kylee Good\"},{'country': \"Canada\",'number': \"1\",'name': \"September Bryan\"},{'country': \"Costa Rica\",'number': \"5\",'name': \"Hakeem Flowers\"},{'country': \"Peru\",'number': \"0\",'name': \"Ross Moss\"},{'country': \"Spain\",'number': \"8\",'name': \"Bo Hardy\"},{'country': \"Austria\",'number': \"2\",'name': \"Davis Cardenas\"},{'country': \"Ireland\",'number': \"2\",'name': \"Lane Chandler\"},{'country': \"Ukraine\",'number': \"3\",'name': \"Mohammad Holder\"},{'country': \"Vietnam\",'number': \"8\",'name': \"Jonas Bryan\"},{'country': \"Costa Rica\",'number': \"0\",'name': \"Eve Rivas\"},{'country': \"Australia\",'number': \"4\",'name': \"Elton Collins\"},{'country': \"Norway\",'number': \"8\",'name': \"Cain Fields\"},{'country': \"Vietnam\",'number': \"0\",'name': \"Iliana Daniels\"},{'country': \"Mexico\",'number': \"7\",'name': \"Rajah Robles\"},{'country': \"Australia\",'number': \"3\",'name': \"Charity Conner\"},{'country': \"Chile\",'number': \"5\",'name': \"Kay Parsons\"},{'country': \"Ireland\",'number': \"4\",'name': \"Rachel Howell\"},{'country': \"Singapore\",'number': \"3\",'name': \"Walter Forbes\"},{'country': \"Colombia\",'number': \"1\",'name': \"Gray Hayden\"},{'country': \"Netherlands\",'number': \"9\",'name': \"Ivana Compton\"},{'country': \"South Korea\",'number': \"8\",'name': \"Jamal Kelly\"},{'country': \"Pakistan\",'number': \"0\",'name': \"Robert Cunningham\"},{'country': \"Spain\",'number': \"4\",'name': \"Ignatius Newman\"},{'country': \"Canada\",'number': \"8\",'name': \"Gisela Glenn\"},{'country': \"Vietnam\",'number': \"1\",'name': \"Eliana Nicholson\"},{'country': \"Ukraine\",'number': \"4\",'name': \"Christen James\"},{'country': \"France\",'number': \"4\",'name': \"Devin Spears\"},{'country': \"Costa Rica\",'number': \"3\",'name': \"Phelan Hodges\"},{'country': \"Chile\",'number': \"4\",'name': \"Stewart Coffey\"},{'country': \"Singapore\",'number': \"6\",'name': \"Kasper Justice\"},{'country': \"Italy\",'number': \"7\",'name': \"Xanthus Wilkerson\"},{'country': \"Italy\",'number': \"6\",'name': \"Debra Melendez\"},{'country': \"Germany\",'number': \"6\",'name': \"Galvin Morrison\"},{'country': \"Norway\",'number': \"10\",'name': \"Britanney Daniels\"},{'country': \"Italy\",'number': \"8\",'name': \"Steel Cantu\"},{'country': \"Mexico\",'number': \"7\",'name': \"Graham Ewing\"},{'country': \"China\",'number': \"3\",'name': \"Maia Dunn\"},{'country': \"Australia\",'number': \"3\",'name': \"Violet Thornton\"},{'country': \"Canada\",'number': \"5\",'name': \"Cleo Cardenas\"},{'country': \"United States\",'number': \"8\",'name': \"Castor Bowen\"},{'country': \"Australia\",'number': \"8\",'name': \"Wyatt Carey\"},{'country': \"Philippines\",'number': \"5\",'name': \"Paul Padilla\"},{'country': \"Costa Rica\",'number': \"8\",'name': \"Germane Welch\"},{'country': \"South Korea\",'number': \"4\",'name': \"Zephr Deleon\"},{'country': \"Russian Federation\",'number': \"9\",'name': \"Lionel Armstrong\"},{'country': \"Brazil\",'number': \"6\",'name': \"Eleanor Solomon\"},{'country': \"Nigeria\",'number': \"7\",'name': \"Rachel Woods\"},{'country': \"Indonesia\",'number': \"9\",'name': \"Philip Taylor\"},{'country': \"Brazil\",'number': \"7\",'name': \"Lilah Shelton\"},{'country': \"United Kingdom\",'number': \"3\",'name': \"Gillian Harrington\"},{'country': \"Mexico\",'number': \"3\",'name': \"Odessa Sutton\"}]"
      ],
      "metadata": {
        "id": "Tfc0YGqxj-M2"
      },
      "execution_count": null,
      "outputs": []
    },
    {
      "cell_type": "markdown",
      "source": [
        "Sort by country"
      ],
      "metadata": {
        "id": "XWnp2yz4jJaV"
      }
    },
    {
      "cell_type": "code",
      "source": [
        "data.sort(key = lambda x: x.get('country'))\n",
        "print(data)"
      ],
      "metadata": {
        "colab": {
          "base_uri": "https://localhost:8080/"
        },
        "id": "BoCuY8f0iMeL",
        "outputId": "d38acece-e724-48f6-a9e0-e65964a9e397"
      },
      "execution_count": null,
      "outputs": [
        {
          "output_type": "stream",
          "name": "stdout",
          "text": [
            "[{'country': 'Australia', 'number': '7', 'name': 'Adena Smith'}, {'country': 'Australia', 'number': '4', 'name': 'Elton Collins'}, {'country': 'Australia', 'number': '3', 'name': 'Charity Conner'}, {'country': 'Australia', 'number': '3', 'name': 'Violet Thornton'}, {'country': 'Australia', 'number': '8', 'name': 'Wyatt Carey'}, {'country': 'Austria', 'number': '6', 'name': 'Indigo Dillard'}, {'country': 'Austria', 'number': '3', 'name': 'Shafira Parks'}, {'country': 'Austria', 'number': '2', 'name': 'Davis Cardenas'}, {'country': 'Belgium', 'number': '8', 'name': 'Barclay Lindsey'}, {'country': 'Brazil', 'number': '6', 'name': 'Connor Potts'}, {'country': 'Brazil', 'number': '6', 'name': 'Eleanor Solomon'}, {'country': 'Brazil', 'number': '7', 'name': 'Lilah Shelton'}, {'country': 'Canada', 'number': '1', 'name': 'September Bryan'}, {'country': 'Canada', 'number': '8', 'name': 'Gisela Glenn'}, {'country': 'Canada', 'number': '5', 'name': 'Cleo Cardenas'}, {'country': 'Chile', 'number': '1', 'name': 'Ignatius Guy'}, {'country': 'Chile', 'number': '3', 'name': 'Benedict Powell'}, {'country': 'Chile', 'number': '5', 'name': 'Kay Parsons'}, {'country': 'Chile', 'number': '4', 'name': 'Stewart Coffey'}, {'country': 'China', 'number': '7', 'name': 'Rachel Dickson'}, {'country': 'China', 'number': '6', 'name': 'Minerva Shields'}, {'country': 'China', 'number': '5', 'name': 'Callie Cole'}, {'country': 'China', 'number': '1', 'name': 'Cassady Mcdaniel'}, {'country': 'China', 'number': '3', 'name': 'Rashad Grimes'}, {'country': 'China', 'number': '3', 'name': 'Maia Dunn'}, {'country': 'Colombia', 'number': '5', 'name': 'Inga Russell'}, {'country': 'Colombia', 'number': '1', 'name': 'Gray Hayden'}, {'country': 'Costa Rica', 'number': '2', 'name': 'Judah Brock'}, {'country': 'Costa Rica', 'number': '5', 'name': 'Hakeem Flowers'}, {'country': 'Costa Rica', 'number': '0', 'name': 'Eve Rivas'}, {'country': 'Costa Rica', 'number': '3', 'name': 'Phelan Hodges'}, {'country': 'Costa Rica', 'number': '8', 'name': 'Germane Welch'}, {'country': 'France', 'number': '4', 'name': 'Devin Spears'}, {'country': 'Germany', 'number': '7', 'name': 'Stacey Nixon'}, {'country': 'Germany', 'number': '6', 'name': 'Galvin Morrison'}, {'country': 'India', 'number': '4', 'name': 'Oren Dominguez'}, {'country': 'India', 'number': '9', 'name': 'Dante Charles'}, {'country': 'Indonesia', 'number': '9', 'name': 'Philip Taylor'}, {'country': 'Ireland', 'number': '2', 'name': 'Simon Giles'}, {'country': 'Ireland', 'number': '2', 'name': 'Lane Chandler'}, {'country': 'Ireland', 'number': '4', 'name': 'Rachel Howell'}, {'country': 'Italy', 'number': '2', 'name': 'Ronan Ellis'}, {'country': 'Italy', 'number': '7', 'name': 'Xanthus Wilkerson'}, {'country': 'Italy', 'number': '6', 'name': 'Debra Melendez'}, {'country': 'Italy', 'number': '8', 'name': 'Steel Cantu'}, {'country': 'Mexico', 'number': '3', 'name': 'Rylee Sharpe'}, {'country': 'Mexico', 'number': '3', 'name': 'Brynn Hinton'}, {'country': 'Mexico', 'number': '2', 'name': 'Yael Glass'}, {'country': 'Mexico', 'number': '7', 'name': 'Rajah Robles'}, {'country': 'Mexico', 'number': '7', 'name': 'Graham Ewing'}, {'country': 'Mexico', 'number': '3', 'name': 'Odessa Sutton'}, {'country': 'Netherlands', 'number': '9', 'name': 'Ivana Compton'}, {'country': 'New Zealand', 'number': '8', 'name': 'Tarik Coleman'}, {'country': 'Nigeria', 'number': '7', 'name': 'Rachel Woods'}, {'country': 'Norway', 'number': '5', 'name': 'Keane Dean'}, {'country': 'Norway', 'number': '7', 'name': 'Robin Butler'}, {'country': 'Norway', 'number': '8', 'name': 'Cain Fields'}, {'country': 'Norway', 'number': '10', 'name': 'Britanney Daniels'}, {'country': 'Pakistan', 'number': '0', 'name': 'Robert Cunningham'}, {'country': 'Peru', 'number': '2', 'name': 'Fuller Burris'}, {'country': 'Peru', 'number': '7', 'name': 'Abra Lewis'}, {'country': 'Peru', 'number': '0', 'name': 'Ross Moss'}, {'country': 'Philippines', 'number': '4', 'name': 'Omar Burgess'}, {'country': 'Philippines', 'number': '9', 'name': 'Simone Tanner'}, {'country': 'Philippines', 'number': '5', 'name': 'Paul Padilla'}, {'country': 'Poland', 'number': '6', 'name': 'Yen Sargent'}, {'country': 'Russian Federation', 'number': '9', 'name': 'Duncan Ware'}, {'country': 'Russian Federation', 'number': '9', 'name': 'Lionel Armstrong'}, {'country': 'Singapore', 'number': '2', 'name': 'Allegra Baird'}, {'country': 'Singapore', 'number': '3', 'name': 'Walter Forbes'}, {'country': 'Singapore', 'number': '6', 'name': 'Kasper Justice'}, {'country': 'South Africa', 'number': '3', 'name': 'Uriel Greene'}, {'country': 'South Africa', 'number': '4', 'name': 'Glenna Clark'}, {'country': 'South Korea', 'number': '2', 'name': 'Lucius Snider'}, {'country': 'South Korea', 'number': '8', 'name': 'Jamal Kelly'}, {'country': 'South Korea', 'number': '4', 'name': 'Zephr Deleon'}, {'country': 'Spain', 'number': '7', 'name': 'Tamekah Gutierrez'}, {'country': 'Spain', 'number': '8', 'name': 'Bo Hardy'}, {'country': 'Spain', 'number': '4', 'name': 'Ignatius Newman'}, {'country': 'Sweden', 'number': '7', 'name': 'Lyle Nguyen'}, {'country': 'Sweden', 'number': '2', 'name': 'Quinn Berg'}, {'country': 'Sweden', 'number': '8', 'name': 'Kylee Good'}, {'country': 'Turkey', 'number': '7', 'name': 'Kenyon Rosa'}, {'country': 'Ukraine', 'number': '3', 'name': 'Derek Bolton'}, {'country': 'Ukraine', 'number': '2', 'name': 'Kylan Witt'}, {'country': 'Ukraine', 'number': '7', 'name': 'Malcolm Cox'}, {'country': 'Ukraine', 'number': '3', 'name': 'Liberty Mathis'}, {'country': 'Ukraine', 'number': '3', 'name': 'Mohammad Holder'}, {'country': 'Ukraine', 'number': '4', 'name': 'Christen James'}, {'country': 'United Kingdom', 'number': '10', 'name': 'Zenia Coffey'}, {'country': 'United Kingdom', 'number': '1', 'name': 'Brendan Pearson'}, {'country': 'United Kingdom', 'number': '3', 'name': 'Gillian Harrington'}, {'country': 'United States', 'number': '3', 'name': 'Britanney Durham'}, {'country': 'United States', 'number': '1', 'name': 'Kitra Willis'}, {'country': 'United States', 'number': '0', 'name': 'Cedric Gates'}, {'country': 'United States', 'number': '3', 'name': 'Rudyard Barrett'}, {'country': 'United States', 'number': '8', 'name': 'Castor Bowen'}, {'country': 'Vietnam', 'number': '8', 'name': 'Jonas Bryan'}, {'country': 'Vietnam', 'number': '0', 'name': 'Iliana Daniels'}, {'country': 'Vietnam', 'number': '1', 'name': 'Eliana Nicholson'}]\n"
          ]
        }
      ]
    },
    {
      "cell_type": "markdown",
      "source": [
        "Filtered list 01"
      ],
      "metadata": {
        "id": "Vf1SyfJ9t4Js"
      }
    },
    {
      "cell_type": "code",
      "source": [
        "data = [{'country': \"Ukraine\",'number': \"3\",'name': \"Derek Bolton\"},{'country': \"United States\",'number': \"3\",'name': \"Britanney Durham\"},{'country': \"China\",'number': \"7\",'name': \"Rachel Dickson\"},{'country': \"India\",'number': \"4\",'name': \"Oren Dominguez\"},{'country': \"Norway\",'number': \"5\",'name': \"Keane Dean\"},{'country': \"New Zealand\",'number': \"8\",'name': \"Tarik Coleman\"},{'country': \"South Africa\",'number': \"3\",'name': \"Uriel Greene\"},{'country': \"China\",'number': \"6\",'name': \"Minerva Shields\"},{'country': \"Norway\",'number': \"7\",'name': \"Robin Butler\"},{'country': \"Germany\",'number': \"7\",'name': \"Stacey Nixon\"},{'country': \"South Africa\",'number': \"4\",'name': \"Glenna Clark\"},{'country': \"Australia\",'number': \"7\",'name': \"Adena Smith\"},{'country': \"Italy\",'number': \"2\",'name': \"Ronan Ellis\"},{'country': \"Chile\",'number': \"1\",'name': \"Ignatius Guy\"},{'country': \"Belgium\",'number': \"8\",'name': \"Barclay Lindsey\"},{'country': \"Peru\",'number': \"2\",'name': \"Fuller Burris\"},{'country': \"Ukraine\",'number': \"2\",'name': \"Kylan Witt\"},{'country': \"United States\",'number': \"1\",'name': \"Kitra Willis\"},{'country': \"Austria\",'number': \"6\",'name': \"Indigo Dillard\"},{'country': \"Chile\",'number': \"3\",'name': \"Benedict Powell\"},{'country': \"Russian Federation\",'number': \"9\",'name': \"Duncan Ware\"},{'country': \"Peru\",'number': \"7\",'name': \"Abra Lewis\"},{'country': \"China\",'number': \"5\",'name': \"Callie Cole\"},{'country': \"United States\",'number': \"0\",'name': \"Cedric Gates\"},{'country': \"Ukraine\",'number': \"7\",'name': \"Malcolm Cox\"},{'country': \"Brazil\",'number': \"6\",'name': \"Connor Potts\"},{'country': \"Sweden\",'number': \"7\",'name': \"Lyle Nguyen\"},{'country': \"United States\",'number': \"3\",'name': \"Rudyard Barrett\"},{'country': \"Costa Rica\",'number': \"2\",'name': \"Judah Brock\"},{'country': \"South Korea\",'number': \"2\",'name': \"Lucius Snider\"},{'country': \"China\",'number': \"1\",'name': \"Cassady Mcdaniel\"},{'country': \"Singapore\",'number': \"2\",'name': \"Allegra Baird\"},{'country': \"Philippines\",'number': \"4\",'name': \"Omar Burgess\"},{'country': \"Turkey\",'number': \"7\",'name': \"Kenyon Rosa\"},{'country': \"Poland\",'number': \"6\",'name': \"Yen Sargent\"},{'country': \"China\",'number': \"3\",'name': \"Rashad Grimes\"},{'country': \"Spain\",'number': \"7\",'name': \"Tamekah Gutierrez\"},{'country': \"Ukraine\",'number': \"3\",'name': \"Liberty Mathis\"},{'country': \"Mexico\",'number': \"3\",'name': \"Rylee Sharpe\"},{'country': \"Mexico\",'number': \"3\",'name': \"Brynn Hinton\"},{'country': \"Sweden\",'number': \"2\",'name': \"Quinn Berg\"},{'country': \"Philippines\",'number': \"9\",'name': \"Simone Tanner\"},{'country': \"Ireland\",'number': \"2\",'name': \"Simon Giles\"},{'country': \"United Kingdom\",'number': \"10\",'name': \"Zenia Coffey\"},{'country': \"Mexico\",'number': \"2\",'name': \"Yael Glass\"},{'country': \"Colombia\",'number': \"5\",'name': \"Inga Russell\"},{'country': \"United Kingdom\",'number': \"1\",'name': \"Brendan Pearson\"},{'country': \"Austria\",'number': \"3\",'name': \"Shafira Parks\"},{'country': \"India\",'number': \"9\",'name': \"Dante Charles\"},{'country': \"Sweden\",'number': \"8\",'name': \"Kylee Good\"},{'country': \"Canada\",'number': \"1\",'name': \"September Bryan\"},{'country': \"Costa Rica\",'number': \"5\",'name': \"Hakeem Flowers\"},{'country': \"Peru\",'number': \"0\",'name': \"Ross Moss\"},{'country': \"Spain\",'number': \"8\",'name': \"Bo Hardy\"},{'country': \"Austria\",'number': \"2\",'name': \"Davis Cardenas\"},{'country': \"Ireland\",'number': \"2\",'name': \"Lane Chandler\"},{'country': \"Ukraine\",'number': \"3\",'name': \"Mohammad Holder\"},{'country': \"Vietnam\",'number': \"8\",'name': \"Jonas Bryan\"},{'country': \"Costa Rica\",'number': \"0\",'name': \"Eve Rivas\"},{'country': \"Australia\",'number': \"4\",'name': \"Elton Collins\"},{'country': \"Norway\",'number': \"8\",'name': \"Cain Fields\"},{'country': \"Vietnam\",'number': \"0\",'name': \"Iliana Daniels\"},{'country': \"Mexico\",'number': \"7\",'name': \"Rajah Robles\"},{'country': \"Australia\",'number': \"3\",'name': \"Charity Conner\"},{'country': \"Chile\",'number': \"5\",'name': \"Kay Parsons\"},{'country': \"Ireland\",'number': \"4\",'name': \"Rachel Howell\"},{'country': \"Singapore\",'number': \"3\",'name': \"Walter Forbes\"},{'country': \"Colombia\",'number': \"1\",'name': \"Gray Hayden\"},{'country': \"Netherlands\",'number': \"9\",'name': \"Ivana Compton\"},{'country': \"South Korea\",'number': \"8\",'name': \"Jamal Kelly\"},{'country': \"Pakistan\",'number': \"0\",'name': \"Robert Cunningham\"},{'country': \"Spain\",'number': \"4\",'name': \"Ignatius Newman\"},{'country': \"Canada\",'number': \"8\",'name': \"Gisela Glenn\"},{'country': \"Vietnam\",'number': \"1\",'name': \"Eliana Nicholson\"},{'country': \"Ukraine\",'number': \"4\",'name': \"Christen James\"},{'country': \"France\",'number': \"4\",'name': \"Devin Spears\"},{'country': \"Costa Rica\",'number': \"3\",'name': \"Phelan Hodges\"},{'country': \"Chile\",'number': \"4\",'name': \"Stewart Coffey\"},{'country': \"Singapore\",'number': \"6\",'name': \"Kasper Justice\"},{'country': \"Italy\",'number': \"7\",'name': \"Xanthus Wilkerson\"},{'country': \"Italy\",'number': \"6\",'name': \"Debra Melendez\"},{'country': \"Germany\",'number': \"6\",'name': \"Galvin Morrison\"},{'country': \"Norway\",'number': \"10\",'name': \"Britanney Daniels\"},{'country': \"Italy\",'number': \"8\",'name': \"Steel Cantu\"},{'country': \"Mexico\",'number': \"7\",'name': \"Graham Ewing\"},{'country': \"China\",'number': \"3\",'name': \"Maia Dunn\"},{'country': \"Australia\",'number': \"3\",'name': \"Violet Thornton\"},{'country': \"Canada\",'number': \"5\",'name': \"Cleo Cardenas\"},{'country': \"United States\",'number': \"8\",'name': \"Castor Bowen\"},{'country': \"Australia\",'number': \"8\",'name': \"Wyatt Carey\"},{'country': \"Philippines\",'number': \"5\",'name': \"Paul Padilla\"},{'country': \"Costa Rica\",'number': \"8\",'name': \"Germane Welch\"},{'country': \"South Korea\",'number': \"4\",'name': \"Zephr Deleon\"},{'country': \"Russian Federation\",'number': \"9\",'name': \"Lionel Armstrong\"},{'country': \"Brazil\",'number': \"6\",'name': \"Eleanor Solomon\"},{'country': \"Nigeria\",'number': \"7\",'name': \"Rachel Woods\"},{'country': \"Indonesia\",'number': \"9\",'name': \"Philip Taylor\"},{'country': \"Brazil\",'number': \"7\",'name': \"Lilah Shelton\"},{'country': \"United Kingdom\",'number': \"3\",'name': \"Gillian Harrington\"},{'country': \"Mexico\",'number': \"3\",'name': \"Odessa Sutton\"}]"
      ],
      "metadata": {
        "id": "wN97jD-5xQ7u"
      },
      "execution_count": 21,
      "outputs": []
    },
    {
      "cell_type": "code",
      "source": [
        "filterlist = list(filter(lambda x: x['name'][0] == 'A' or x['name'][0] == 'B', data))\n",
        "filterlist"
      ],
      "metadata": {
        "colab": {
          "base_uri": "https://localhost:8080/"
        },
        "id": "1-UnJVKcyWHH",
        "outputId": "12c292a7-51f7-4302-c5af-9f24a1676341"
      },
      "execution_count": 25,
      "outputs": [
        {
          "output_type": "execute_result",
          "data": {
            "text/plain": [
              "[{'country': 'United States', 'number': '3', 'name': 'Britanney Durham'},\n",
              " {'country': 'Australia', 'number': '7', 'name': 'Adena Smith'},\n",
              " {'country': 'Belgium', 'number': '8', 'name': 'Barclay Lindsey'},\n",
              " {'country': 'Chile', 'number': '3', 'name': 'Benedict Powell'},\n",
              " {'country': 'Peru', 'number': '7', 'name': 'Abra Lewis'},\n",
              " {'country': 'Singapore', 'number': '2', 'name': 'Allegra Baird'},\n",
              " {'country': 'Mexico', 'number': '3', 'name': 'Brynn Hinton'},\n",
              " {'country': 'United Kingdom', 'number': '1', 'name': 'Brendan Pearson'},\n",
              " {'country': 'Spain', 'number': '8', 'name': 'Bo Hardy'},\n",
              " {'country': 'Norway', 'number': '10', 'name': 'Britanney Daniels'}]"
            ]
          },
          "metadata": {},
          "execution_count": 25
        }
      ]
    },
    {
      "cell_type": "markdown",
      "source": [
        "filtered list 02"
      ],
      "metadata": {
        "id": "lUMndToCxXRy"
      }
    },
    {
      "cell_type": "code",
      "source": [
        "flist02 = list(filter(lambda x:(int(x['number'])%2!=0)and(int(x['number'])%3!=0),data))\n",
        "flist02"
      ],
      "metadata": {
        "colab": {
          "base_uri": "https://localhost:8080/"
        },
        "id": "nj7tT8y8jblc",
        "outputId": "a9015b9b-0325-4cf0-d184-a2e06ca04869"
      },
      "execution_count": 30,
      "outputs": [
        {
          "output_type": "execute_result",
          "data": {
            "text/plain": [
              "[{'country': 'China', 'number': '7', 'name': 'Rachel Dickson'},\n",
              " {'country': 'Norway', 'number': '5', 'name': 'Keane Dean'},\n",
              " {'country': 'Norway', 'number': '7', 'name': 'Robin Butler'},\n",
              " {'country': 'Germany', 'number': '7', 'name': 'Stacey Nixon'},\n",
              " {'country': 'Australia', 'number': '7', 'name': 'Adena Smith'},\n",
              " {'country': 'Chile', 'number': '1', 'name': 'Ignatius Guy'},\n",
              " {'country': 'United States', 'number': '1', 'name': 'Kitra Willis'},\n",
              " {'country': 'Peru', 'number': '7', 'name': 'Abra Lewis'},\n",
              " {'country': 'China', 'number': '5', 'name': 'Callie Cole'},\n",
              " {'country': 'Ukraine', 'number': '7', 'name': 'Malcolm Cox'},\n",
              " {'country': 'Sweden', 'number': '7', 'name': 'Lyle Nguyen'},\n",
              " {'country': 'China', 'number': '1', 'name': 'Cassady Mcdaniel'},\n",
              " {'country': 'Turkey', 'number': '7', 'name': 'Kenyon Rosa'},\n",
              " {'country': 'Spain', 'number': '7', 'name': 'Tamekah Gutierrez'},\n",
              " {'country': 'Colombia', 'number': '5', 'name': 'Inga Russell'},\n",
              " {'country': 'United Kingdom', 'number': '1', 'name': 'Brendan Pearson'},\n",
              " {'country': 'Canada', 'number': '1', 'name': 'September Bryan'},\n",
              " {'country': 'Costa Rica', 'number': '5', 'name': 'Hakeem Flowers'},\n",
              " {'country': 'Mexico', 'number': '7', 'name': 'Rajah Robles'},\n",
              " {'country': 'Chile', 'number': '5', 'name': 'Kay Parsons'},\n",
              " {'country': 'Colombia', 'number': '1', 'name': 'Gray Hayden'},\n",
              " {'country': 'Vietnam', 'number': '1', 'name': 'Eliana Nicholson'},\n",
              " {'country': 'Italy', 'number': '7', 'name': 'Xanthus Wilkerson'},\n",
              " {'country': 'Mexico', 'number': '7', 'name': 'Graham Ewing'},\n",
              " {'country': 'Canada', 'number': '5', 'name': 'Cleo Cardenas'},\n",
              " {'country': 'Philippines', 'number': '5', 'name': 'Paul Padilla'},\n",
              " {'country': 'Nigeria', 'number': '7', 'name': 'Rachel Woods'},\n",
              " {'country': 'Brazil', 'number': '7', 'name': 'Lilah Shelton'}]"
            ]
          },
          "metadata": {},
          "execution_count": 30
        }
      ]
    },
    {
      "cell_type": "markdown",
      "source": [
        "filter list03"
      ],
      "metadata": {
        "id": "s_j_Lf8ZzgYw"
      }
    },
    {
      "cell_type": "code",
      "source": [
        "doublelist = list(map(lambda x:{'name':x['name'],'country':x['country'],'number':x['number']*2},data))\n",
        "data"
      ],
      "metadata": {
        "colab": {
          "base_uri": "https://localhost:8080/"
        },
        "id": "SYRY-7C-znBA",
        "outputId": "61c2d5f4-ab5d-4749-eb1c-9f1992bcf0b7"
      },
      "execution_count": 32,
      "outputs": [
        {
          "output_type": "execute_result",
          "data": {
            "text/plain": [
              "[{'country': 'Ukraine', 'number': '3', 'name': 'Derek Bolton'},\n",
              " {'country': 'United States', 'number': '3', 'name': 'Britanney Durham'},\n",
              " {'country': 'China', 'number': '7', 'name': 'Rachel Dickson'},\n",
              " {'country': 'India', 'number': '4', 'name': 'Oren Dominguez'},\n",
              " {'country': 'Norway', 'number': '5', 'name': 'Keane Dean'},\n",
              " {'country': 'New Zealand', 'number': '8', 'name': 'Tarik Coleman'},\n",
              " {'country': 'South Africa', 'number': '3', 'name': 'Uriel Greene'},\n",
              " {'country': 'China', 'number': '6', 'name': 'Minerva Shields'},\n",
              " {'country': 'Norway', 'number': '7', 'name': 'Robin Butler'},\n",
              " {'country': 'Germany', 'number': '7', 'name': 'Stacey Nixon'},\n",
              " {'country': 'South Africa', 'number': '4', 'name': 'Glenna Clark'},\n",
              " {'country': 'Australia', 'number': '7', 'name': 'Adena Smith'},\n",
              " {'country': 'Italy', 'number': '2', 'name': 'Ronan Ellis'},\n",
              " {'country': 'Chile', 'number': '1', 'name': 'Ignatius Guy'},\n",
              " {'country': 'Belgium', 'number': '8', 'name': 'Barclay Lindsey'},\n",
              " {'country': 'Peru', 'number': '2', 'name': 'Fuller Burris'},\n",
              " {'country': 'Ukraine', 'number': '2', 'name': 'Kylan Witt'},\n",
              " {'country': 'United States', 'number': '1', 'name': 'Kitra Willis'},\n",
              " {'country': 'Austria', 'number': '6', 'name': 'Indigo Dillard'},\n",
              " {'country': 'Chile', 'number': '3', 'name': 'Benedict Powell'},\n",
              " {'country': 'Russian Federation', 'number': '9', 'name': 'Duncan Ware'},\n",
              " {'country': 'Peru', 'number': '7', 'name': 'Abra Lewis'},\n",
              " {'country': 'China', 'number': '5', 'name': 'Callie Cole'},\n",
              " {'country': 'United States', 'number': '0', 'name': 'Cedric Gates'},\n",
              " {'country': 'Ukraine', 'number': '7', 'name': 'Malcolm Cox'},\n",
              " {'country': 'Brazil', 'number': '6', 'name': 'Connor Potts'},\n",
              " {'country': 'Sweden', 'number': '7', 'name': 'Lyle Nguyen'},\n",
              " {'country': 'United States', 'number': '3', 'name': 'Rudyard Barrett'},\n",
              " {'country': 'Costa Rica', 'number': '2', 'name': 'Judah Brock'},\n",
              " {'country': 'South Korea', 'number': '2', 'name': 'Lucius Snider'},\n",
              " {'country': 'China', 'number': '1', 'name': 'Cassady Mcdaniel'},\n",
              " {'country': 'Singapore', 'number': '2', 'name': 'Allegra Baird'},\n",
              " {'country': 'Philippines', 'number': '4', 'name': 'Omar Burgess'},\n",
              " {'country': 'Turkey', 'number': '7', 'name': 'Kenyon Rosa'},\n",
              " {'country': 'Poland', 'number': '6', 'name': 'Yen Sargent'},\n",
              " {'country': 'China', 'number': '3', 'name': 'Rashad Grimes'},\n",
              " {'country': 'Spain', 'number': '7', 'name': 'Tamekah Gutierrez'},\n",
              " {'country': 'Ukraine', 'number': '3', 'name': 'Liberty Mathis'},\n",
              " {'country': 'Mexico', 'number': '3', 'name': 'Rylee Sharpe'},\n",
              " {'country': 'Mexico', 'number': '3', 'name': 'Brynn Hinton'},\n",
              " {'country': 'Sweden', 'number': '2', 'name': 'Quinn Berg'},\n",
              " {'country': 'Philippines', 'number': '9', 'name': 'Simone Tanner'},\n",
              " {'country': 'Ireland', 'number': '2', 'name': 'Simon Giles'},\n",
              " {'country': 'United Kingdom', 'number': '10', 'name': 'Zenia Coffey'},\n",
              " {'country': 'Mexico', 'number': '2', 'name': 'Yael Glass'},\n",
              " {'country': 'Colombia', 'number': '5', 'name': 'Inga Russell'},\n",
              " {'country': 'United Kingdom', 'number': '1', 'name': 'Brendan Pearson'},\n",
              " {'country': 'Austria', 'number': '3', 'name': 'Shafira Parks'},\n",
              " {'country': 'India', 'number': '9', 'name': 'Dante Charles'},\n",
              " {'country': 'Sweden', 'number': '8', 'name': 'Kylee Good'},\n",
              " {'country': 'Canada', 'number': '1', 'name': 'September Bryan'},\n",
              " {'country': 'Costa Rica', 'number': '5', 'name': 'Hakeem Flowers'},\n",
              " {'country': 'Peru', 'number': '0', 'name': 'Ross Moss'},\n",
              " {'country': 'Spain', 'number': '8', 'name': 'Bo Hardy'},\n",
              " {'country': 'Austria', 'number': '2', 'name': 'Davis Cardenas'},\n",
              " {'country': 'Ireland', 'number': '2', 'name': 'Lane Chandler'},\n",
              " {'country': 'Ukraine', 'number': '3', 'name': 'Mohammad Holder'},\n",
              " {'country': 'Vietnam', 'number': '8', 'name': 'Jonas Bryan'},\n",
              " {'country': 'Costa Rica', 'number': '0', 'name': 'Eve Rivas'},\n",
              " {'country': 'Australia', 'number': '4', 'name': 'Elton Collins'},\n",
              " {'country': 'Norway', 'number': '8', 'name': 'Cain Fields'},\n",
              " {'country': 'Vietnam', 'number': '0', 'name': 'Iliana Daniels'},\n",
              " {'country': 'Mexico', 'number': '7', 'name': 'Rajah Robles'},\n",
              " {'country': 'Australia', 'number': '3', 'name': 'Charity Conner'},\n",
              " {'country': 'Chile', 'number': '5', 'name': 'Kay Parsons'},\n",
              " {'country': 'Ireland', 'number': '4', 'name': 'Rachel Howell'},\n",
              " {'country': 'Singapore', 'number': '3', 'name': 'Walter Forbes'},\n",
              " {'country': 'Colombia', 'number': '1', 'name': 'Gray Hayden'},\n",
              " {'country': 'Netherlands', 'number': '9', 'name': 'Ivana Compton'},\n",
              " {'country': 'South Korea', 'number': '8', 'name': 'Jamal Kelly'},\n",
              " {'country': 'Pakistan', 'number': '0', 'name': 'Robert Cunningham'},\n",
              " {'country': 'Spain', 'number': '4', 'name': 'Ignatius Newman'},\n",
              " {'country': 'Canada', 'number': '8', 'name': 'Gisela Glenn'},\n",
              " {'country': 'Vietnam', 'number': '1', 'name': 'Eliana Nicholson'},\n",
              " {'country': 'Ukraine', 'number': '4', 'name': 'Christen James'},\n",
              " {'country': 'France', 'number': '4', 'name': 'Devin Spears'},\n",
              " {'country': 'Costa Rica', 'number': '3', 'name': 'Phelan Hodges'},\n",
              " {'country': 'Chile', 'number': '4', 'name': 'Stewart Coffey'},\n",
              " {'country': 'Singapore', 'number': '6', 'name': 'Kasper Justice'},\n",
              " {'country': 'Italy', 'number': '7', 'name': 'Xanthus Wilkerson'},\n",
              " {'country': 'Italy', 'number': '6', 'name': 'Debra Melendez'},\n",
              " {'country': 'Germany', 'number': '6', 'name': 'Galvin Morrison'},\n",
              " {'country': 'Norway', 'number': '10', 'name': 'Britanney Daniels'},\n",
              " {'country': 'Italy', 'number': '8', 'name': 'Steel Cantu'},\n",
              " {'country': 'Mexico', 'number': '7', 'name': 'Graham Ewing'},\n",
              " {'country': 'China', 'number': '3', 'name': 'Maia Dunn'},\n",
              " {'country': 'Australia', 'number': '3', 'name': 'Violet Thornton'},\n",
              " {'country': 'Canada', 'number': '5', 'name': 'Cleo Cardenas'},\n",
              " {'country': 'United States', 'number': '8', 'name': 'Castor Bowen'},\n",
              " {'country': 'Australia', 'number': '8', 'name': 'Wyatt Carey'},\n",
              " {'country': 'Philippines', 'number': '5', 'name': 'Paul Padilla'},\n",
              " {'country': 'Costa Rica', 'number': '8', 'name': 'Germane Welch'},\n",
              " {'country': 'South Korea', 'number': '4', 'name': 'Zephr Deleon'},\n",
              " {'country': 'Russian Federation', 'number': '9', 'name': 'Lionel Armstrong'},\n",
              " {'country': 'Brazil', 'number': '6', 'name': 'Eleanor Solomon'},\n",
              " {'country': 'Nigeria', 'number': '7', 'name': 'Rachel Woods'},\n",
              " {'country': 'Indonesia', 'number': '9', 'name': 'Philip Taylor'},\n",
              " {'country': 'Brazil', 'number': '7', 'name': 'Lilah Shelton'},\n",
              " {'country': 'United Kingdom', 'number': '3', 'name': 'Gillian Harrington'},\n",
              " {'country': 'Mexico', 'number': '3', 'name': 'Odessa Sutton'}]"
            ]
          },
          "metadata": {},
          "execution_count": 32
        }
      ]
    },
    {
      "cell_type": "markdown",
      "source": [
        "# Recursive functions"
      ],
      "metadata": {
        "id": "TPaqPY2JSPPf"
      }
    },
    {
      "cell_type": "markdown",
      "source": [
        "Exercise1"
      ],
      "metadata": {
        "id": "BUQD3iHfSYWK"
      }
    },
    {
      "cell_type": "code",
      "source": [
        "def fibonacci(n):\n",
        "    if n == 1 or n == 2: # base case\n",
        "        return 1\n",
        "    else: # recursive case\n",
        "        return fib(n-1)+fib(n-2)\n",
        "\n",
        "print(fibonacci(15))"
      ],
      "metadata": {
        "colab": {
          "base_uri": "https://localhost:8080/"
        },
        "id": "KdBBR6L9SSOB",
        "outputId": "ac151b61-5173-4d06-f23f-014a126055b4"
      },
      "execution_count": 2,
      "outputs": [
        {
          "output_type": "stream",
          "name": "stdout",
          "text": [
            "610\n"
          ]
        }
      ]
    },
    {
      "cell_type": "code",
      "source": [
        "print(fibonacci(20)) # the calculate "
      ],
      "metadata": {
        "colab": {
          "base_uri": "https://localhost:8080/"
        },
        "id": "oVSI7R0oUNCe",
        "outputId": "044a15ce-2808-43d9-e64e-1fd16b659e72"
      },
      "execution_count": 5,
      "outputs": [
        {
          "output_type": "stream",
          "name": "stdout",
          "text": [
            "6765\n"
          ]
        }
      ]
    },
    {
      "cell_type": "markdown",
      "source": [
        "Exercise2"
      ],
      "metadata": {
        "id": "iEuEeg4eWH96"
      }
    },
    {
      "cell_type": "code",
      "source": [
        "inputlist = [2,49,36,50,102,53,38,47,63]"
      ],
      "metadata": {
        "id": "NLVEM17GV2HD"
      },
      "execution_count": 8,
      "outputs": []
    },
    {
      "cell_type": "code",
      "source": [
        "def pickmax(x):\n",
        "  if len(inputlist) == 1:\n",
        "    return inputlist[0]\n",
        "  else:\n",
        "    if inputlist[-1]>inputlist[-2]:\n",
        "      inputlist.pop(-2)\n",
        "    else:\n",
        "      inputlist.pop(-1)\n",
        "    return pickmax(inputlist)"
      ],
      "metadata": {
        "id": "ZfUrEJhjW5cz"
      },
      "execution_count": 10,
      "outputs": []
    },
    {
      "cell_type": "code",
      "source": [
        "pickmax(inputlist)"
      ],
      "metadata": {
        "colab": {
          "base_uri": "https://localhost:8080/"
        },
        "id": "OhSyRF_5nFpk",
        "outputId": "15cabf78-9be3-4368-897e-54775015fc01"
      },
      "execution_count": 11,
      "outputs": [
        {
          "output_type": "execute_result",
          "data": {
            "text/plain": [
              "102"
            ]
          },
          "metadata": {},
          "execution_count": 11
        }
      ]
    },
    {
      "cell_type": "markdown",
      "source": [
        "Exercise3"
      ],
      "metadata": {
        "id": "jUTalKWvoFjr"
      }
    },
    {
      "cell_type": "code",
      "source": [
        "def count(word,letter):\n",
        "  n = 0\n",
        "  def lettercount(word,letter,n):\n",
        "    if len(word)>0:\n",
        "      if word[-1] == letter:\n",
        "        n += 1\n",
        "      word = word[0:len(word)-1]\n",
        "      return lettercount(word,letter,n)\n",
        "    else:\n",
        "      return n\n",
        "  return lettercount(word,letter,n)"
      ],
      "metadata": {
        "id": "_GhL-rDbtI9-"
      },
      "execution_count": 14,
      "outputs": []
    },
    {
      "cell_type": "code",
      "source": [
        "count('wwwwwwwwonderful','w')"
      ],
      "metadata": {
        "colab": {
          "base_uri": "https://localhost:8080/"
        },
        "id": "ym_cPgw9viE9",
        "outputId": "d9c9c94a-0dec-44e0-c334-9799988c4912"
      },
      "execution_count": 16,
      "outputs": [
        {
          "output_type": "execute_result",
          "data": {
            "text/plain": [
              "8"
            ]
          },
          "metadata": {},
          "execution_count": 16
        }
      ]
    },
    {
      "cell_type": "code",
      "source": [],
      "metadata": {
        "id": "WrNEI-Udvuu9"
      },
      "execution_count": null,
      "outputs": []
    }
  ]
}